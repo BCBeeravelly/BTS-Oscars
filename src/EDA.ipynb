{
 "cells": [
  {
   "cell_type": "markdown",
   "metadata": {},
   "source": [
    "# Import packages"
   ]
  },
  {
   "cell_type": "code",
   "execution_count": 2,
   "metadata": {},
   "outputs": [],
   "source": [
    "import pandas as pd\n",
    "import matplotlib.pyplot as plt\n",
    "import numpy as np\n",
    "import seaborn as sns\n",
    "import os\n",
    "\n",
    "from gensim.models import Word2Vec\n",
    "from sklearn.manifold import TSNE"
   ]
  },
  {
   "cell_type": "code",
   "execution_count": 10,
   "metadata": {},
   "outputs": [],
   "source": [
    "# Load the data\n",
    "# Current Directory\n",
    "CURRENT_DIR = os.getcwd()\n",
    "\n",
    "# Data Directory\n",
    "DATA_DIR = os.path.abspath(os.path.join(CURRENT_DIR, '..', 'data'))\n",
    "\n",
    "# Data paths\n",
    "ACTORS_DATA = os.path.join(DATA_DIR, 'BestActors.csv')\n",
    "ACTRESSES_DATA = os.path.join(DATA_DIR, 'BestActresses.csv')\n",
    "DIRECTORS_DATA = os.path.join(DATA_DIR, 'BestDirectors.csv')\n",
    "MOVIES_DATA = os.path.join(DATA_DIR, 'BestPictures_updated.csv')\n",
    "\n",
    "actors_df = pd.read_csv(ACTORS_DATA)\n",
    "actresses_df = pd.read_csv(ACTRESSES_DATA)\n",
    "directors_df = pd.read_csv(DIRECTORS_DATA)\n",
    "movies_df = pd.read_csv(MOVIES_DATA)"
   ]
  },
  {
   "cell_type": "markdown",
   "metadata": {},
   "source": [
    "# Genre Analysis\n",
    "- Since, there are so many genres across all the nominations, we shall derive the relationships between these genres and project them into a 2D space"
   ]
  },
  {
   "cell_type": "code",
   "execution_count": 11,
   "metadata": {},
   "outputs": [],
   "source": [
    "# Split genres into lists and clean whitespace\n",
    "\n",
    "movies_df['Genres'] = movies_df['Genres'].str.split(',').apply(\n",
    "    lambda x: [g.strip() for g in x] if isinstance(x, list) else []\n",
    ")\n",
    "\n",
    "# Create a corpus \n",
    "corpus = movies_df['Genres'].tolist()"
   ]
  },
  {
   "cell_type": "code",
   "execution_count": null,
   "metadata": {},
   "outputs": [],
   "source": []
  }
 ],
 "metadata": {
  "kernelspec": {
   "display_name": ".venv",
   "language": "python",
   "name": "python3"
  },
  "language_info": {
   "codemirror_mode": {
    "name": "ipython",
    "version": 3
   },
   "file_extension": ".py",
   "mimetype": "text/x-python",
   "name": "python",
   "nbconvert_exporter": "python",
   "pygments_lexer": "ipython3",
   "version": "3.10.11"
  }
 },
 "nbformat": 4,
 "nbformat_minor": 2
}
